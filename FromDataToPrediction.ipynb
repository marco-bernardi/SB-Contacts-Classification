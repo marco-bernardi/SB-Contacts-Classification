{
  "nbformat": 4,
  "nbformat_minor": 0,
  "metadata": {
    "colab": {
      "provenance": [],
      "gpuType": "T4"
    },
    "kernelspec": {
      "name": "python3",
      "display_name": "Python 3"
    },
    "language_info": {
      "name": "python"
    },
    "accelerator": "GPU"
  },
  "cells": [
    {
      "cell_type": "code",
      "execution_count": 125,
      "metadata": {
        "id": "Vvk9fWsw2k-c"
      },
      "outputs": [],
      "source": [
        "import torch\n",
        "import torch.nn as nn\n",
        "import torch.optim as optim\n",
        "import numpy as np\n",
        "import pandas as pd\n",
        "import os\n",
        "import seaborn as sns\n",
        "import matplotlib.pyplot as plt\n",
        "import xgboost as xgb\n",
        "\n",
        "from sklearn.model_selection import train_test_split\n",
        "from imblearn.over_sampling import SMOTE\n",
        "from torch.utils.data import DataLoader, TensorDataset\n",
        "from sklearn.preprocessing import MinMaxScaler\n",
        "from sklearn.metrics import accuracy_score, confusion_matrix, matthews_corrcoef, balanced_accuracy_score, average_precision_score, roc_auc_score\n",
        "from sklearn.preprocessing import LabelEncoder\n",
        "from collections import Counter"
      ]
    },
    {
      "cell_type": "code",
      "source": [
        "# CHECK CUDA\n",
        "device = torch.device('cuda' if torch.cuda.is_available() else 'cpu')\n",
        "print('Using device:', device)"
      ],
      "metadata": {
        "colab": {
          "base_uri": "https://localhost:8080/"
        },
        "id": "Kqve4GHx2ntF",
        "outputId": "6d4845bf-fa39-40bd-831d-bd4d410f3ad1"
      },
      "execution_count": 126,
      "outputs": [
        {
          "output_type": "stream",
          "name": "stdout",
          "text": [
            "Using device: cuda\n"
          ]
        }
      ]
    },
    {
      "cell_type": "markdown",
      "source": [
        "# Mount Drive and Load Data\n",
        "\n",
        "To create the training dataset, upload the `features_ring` folder to your personal drive, and update the path accordingly.\n"
      ],
      "metadata": {
        "id": "m0KiFdFm3t4L"
      }
    },
    {
      "cell_type": "code",
      "source": [
        "from google.colab import drive\n",
        "drive.mount('/content/drive')\n",
        "path = 'drive/MyDrive'"
      ],
      "metadata": {
        "colab": {
          "base_uri": "https://localhost:8080/"
        },
        "id": "4mQmSILF27p-",
        "outputId": "53e1d498-af79-42c9-aec2-280f0203a2a4"
      },
      "execution_count": 3,
      "outputs": [
        {
          "output_type": "stream",
          "name": "stdout",
          "text": [
            "Mounted at /content/drive\n"
          ]
        }
      ]
    },
    {
      "cell_type": "code",
      "source": [
        "dir = os.path.join(path, 'features_ring')\n",
        "df = pd.DataFrame()\n",
        "for file in os.listdir(dir):\n",
        "    if file.endswith('.tsv'):\n",
        "        df_temp = pd.read_csv(os.path.join(dir, file), sep='\\t')\n",
        "        df = pd.concat([df, df_temp])\n",
        "\n",
        "print(\"Done!\")"
      ],
      "metadata": {
        "colab": {
          "base_uri": "https://localhost:8080/"
        },
        "id": "RlCnjfzo3Q1M",
        "outputId": "8de54f0c-17e8-467d-c216-9ff4a3dc347d"
      },
      "execution_count": 56,
      "outputs": [
        {
          "output_type": "stream",
          "name": "stdout",
          "text": [
            "Done!\n"
          ]
        }
      ]
    },
    {
      "cell_type": "markdown",
      "source": [
        "## Optional: Run this cell if you want to remove double instance in .tsv files\n",
        "\n",
        "Example:\n",
        "\n",
        "`1lu4\tA\t1091\t \tI\tH\t0.03\t20\t11\t-1.253\t-0.67\tH\t-1.239\t-0.547\t2.131\t0.393\t0.816\tA\t1094\t \tR\tH\t0.448\t15\t6\t-1.088\t-0.594\tH\t1.538\t-0.055\t1.502\t0.44\t2.897\tHBOND`\n",
        "\n",
        "`1lu4\tA\t1091\t \tI\tH\t0.03\t20\t11\t-1.253\t-0.67\tH\t-1.239\t-0.547\t2.131\t0.393\t0.816\tA\t1094\t \tR\tH\t0.448\t15\t6\t-1.088\t-0.594\tH\t1.538\t-0.055\t1.502\t0.44\t2.897\tVDW`\n",
        "\n"
      ],
      "metadata": {
        "id": "G1xX7s1W-_Dr"
      }
    },
    {
      "cell_type": "code",
      "source": [
        "columns_to_check = df.columns[:-1]\n",
        "df_copy = df.copy()\n",
        "df = df.drop_duplicates(subset=columns_to_check, keep='last')\n"
      ],
      "metadata": {
        "id": "p7d6WNGW8Lsi"
      },
      "execution_count": 58,
      "outputs": []
    },
    {
      "cell_type": "markdown",
      "source": [
        "## Dataset creation\n",
        "\n",
        "Add the label unclassified, fill with the mean off the column `None` value and encode as integer the secondary structures."
      ],
      "metadata": {
        "id": "jpwC7Qb0_qqS"
      }
    },
    {
      "cell_type": "code",
      "source": [
        "df['Interaction'] = df['Interaction'].fillna('Unclassified')  # Replace None value on column 'Interaction' with a proper label\n",
        "interaction_counts = df['Interaction'].value_counts() # Count each class\n",
        "print(interaction_counts)"
      ],
      "metadata": {
        "colab": {
          "base_uri": "https://localhost:8080/"
        },
        "id": "NZI0HRXu4JUO",
        "outputId": "2bf4e428-b45b-476c-c9d8-bd72f665b7a8"
      },
      "execution_count": 130,
      "outputs": [
        {
          "output_type": "stream",
          "name": "stdout",
          "text": [
            "Interaction\n",
            "HBOND           901814\n",
            "Unclassified    860202\n",
            "VDW             640469\n",
            "PIPISTACK        32965\n",
            "IONIC            30355\n",
            "PICATION          7623\n",
            "PIHBOND           1836\n",
            "SSBOND            1792\n",
            "Name: count, dtype: int64\n"
          ]
        }
      ]
    },
    {
      "cell_type": "code",
      "source": [
        "le = LabelEncoder()"
      ],
      "metadata": {
        "id": "u1mx8qlP8EeD"
      },
      "execution_count": 131,
      "outputs": []
    },
    {
      "cell_type": "code",
      "source": [
        "df = df[df.Interaction.notna()]\n",
        "contact_dict = {\"HBOND\": 0, \"Unclassified\": 1, \"VDW\": 2, \"PIPISTACK\": 3, \"IONIC\": 4, \"PICATION\": 5, \"PIHBOND\": 6, \"SSBOND\": 7,  }\n",
        "y = df['Interaction']\n",
        "cat_names = list(y.astype('category').cat.categories)\n",
        "y.replace(contact_dict, inplace=True)\n",
        "\n",
        "#X = df[['s_ss8','s_rsa', 's_up', 's_down', 's_phi', 's_a5', 't_ss8','t_rsa', 't_up', 't_down']] Select the features in order to perform features selection\n",
        "\n",
        "X = df[['s_ss8','s_rsa', 's_up', 's_down', 's_phi', 's_psi', 's_a1', 's_a2', 's_a3', 's_a4', 's_a5', 't_ss8','t_rsa', 't_up', 't_down', 't_phi', 't_psi', 't_a1', 't_a2', 't_a3', 't_a4', 't_a5']].copy()"
      ],
      "metadata": {
        "id": "ZKd3909m8NPR"
      },
      "execution_count": 136,
      "outputs": []
    },
    {
      "cell_type": "code",
      "source": [
        "# Enconde 's_ss8' into a numerical form (S_SS8 it's char)\n",
        "X['s_ss8_encoded'] = le.fit_transform(X['s_ss8'])\n",
        "X = X.drop(columns=['s_ss8'])\n",
        "X['t_ss8_encoded'] = le.fit_transform(X['t_ss8'])\n",
        "X = X.drop(columns=['t_ss8'])\n",
        "# Fill None value with mean of the column\n",
        "X = X.apply(lambda x: x.fillna(x.mean()) if x.dtype.kind in 'biufc' else x)"
      ],
      "metadata": {
        "id": "JQIaPT2B8VR8"
      },
      "execution_count": 137,
      "outputs": []
    },
    {
      "cell_type": "code",
      "source": [
        "# Scale the features\n",
        "minMax = MinMaxScaler()\n",
        "X_scaled = minMax.fit_transform(X)\n",
        "input_dim = X_scaled.shape[1]\n",
        "# Store the cardinality of each class to weight its contribution to the model\n",
        "num_classes = len(contact_dict)\n",
        "print(\"Input dimension:\", input_dim)  # 22"
      ],
      "metadata": {
        "id": "gmeFE-sB8ik1",
        "colab": {
          "base_uri": "https://localhost:8080/"
        },
        "outputId": "807517d5-56e8-415e-e826-05620764b609"
      },
      "execution_count": 141,
      "outputs": [
        {
          "output_type": "stream",
          "name": "stdout",
          "text": [
            "Input dimension: 22\n"
          ]
        }
      ]
    },
    {
      "cell_type": "code",
      "source": [
        "X_train, X_test, y_train, y_test = train_test_split(X_scaled, y, stratify=y, test_size=0.2, random_state=42)\n",
        "\n",
        "# Convert data to numpy arrays\n",
        "X_train = np.array(X_train)\n",
        "y_train = np.array(y_train)\n",
        "X_test = np.array(X_test)\n",
        "y_test = np.array(y_test)"
      ],
      "metadata": {
        "id": "Yy9ln3lw-Zbu"
      },
      "execution_count": 142,
      "outputs": []
    },
    {
      "cell_type": "markdown",
      "source": [
        "# SMOTE Oversampling\n",
        "## Choose whether to run SMOTE from scratch (time-consuming) or load the provided `.npy` files containing a precomputed SMOTE run.\n"
      ],
      "metadata": {
        "id": "SC_IzZzN-RCS"
      }
    },
    {
      "cell_type": "markdown",
      "source": [
        "## 1 - Run SMOTE"
      ],
      "metadata": {
        "id": "zpSuRISl_EJv"
      }
    },
    {
      "cell_type": "code",
      "source": [
        "class_distribution = Counter(y_train)\n",
        "print(\"Original class distribution:\", class_distribution)\n",
        "\n",
        "sampling_strategy = {\n",
        "    0: 813245,  # HBOND\n",
        "    1: 860202,  # None\n",
        "    2: 640469,  # VDW\n",
        "    3: 300000,  # PIPISTACK\n",
        "    4: 300000,  # IONIC\n",
        "    5: 10000,  # PICATION\n",
        "    6: 10000,  # PIHBOND\n",
        "    7: 10000   # SSBOND\n",
        "}"
      ],
      "metadata": {
        "colab": {
          "base_uri": "https://localhost:8080/"
        },
        "id": "gD7lJQMf-fqb",
        "outputId": "de7c6bc0-ee75-4909-955b-d9fa13821680"
      },
      "execution_count": 143,
      "outputs": [
        {
          "output_type": "stream",
          "name": "stdout",
          "text": [
            "Original class distribution: Counter({0: 721451, 1: 688161, 2: 512375, 3: 26372, 4: 24284, 5: 6098, 6: 1469, 7: 1434})\n"
          ]
        }
      ]
    },
    {
      "cell_type": "code",
      "source": [
        "oversample = SMOTE(sampling_strategy=sampling_strategy, random_state=42)\n"
      ],
      "metadata": {
        "id": "QuQ7EHSr-lB7"
      },
      "execution_count": null,
      "outputs": []
    },
    {
      "cell_type": "code",
      "source": [
        "# Fit and resample the training data\n",
        "X_bal, y_bal = oversample.fit_resample(X_train, y_train)\n",
        "\n",
        "# Convert labels to categorical format\n",
        "y_cat = to_categorical(y_bal, num_classes)\n",
        "\n",
        "# Verify the resampled data\n",
        "print('Original y_train distribution:', Counter(y_train))\n",
        "print('Resampled y_bal distribution:', Counter(y_bal))"
      ],
      "metadata": {
        "id": "0bCsNjPW-oHd"
      },
      "execution_count": null,
      "outputs": []
    },
    {
      "cell_type": "code",
      "source": [
        "# Store oversampled features and label\n",
        "np.save('X_bal.npy', X_bal)\n",
        "np.save('y_bal.npy', y_bal)"
      ],
      "metadata": {
        "id": "LtICVtHa-qKU"
      },
      "execution_count": null,
      "outputs": []
    },
    {
      "cell_type": "markdown",
      "source": [
        "## 2 - LOAD Existing data\n"
      ],
      "metadata": {
        "id": "xsSjlxSq_F--"
      }
    },
    {
      "cell_type": "code",
      "source": [
        "X_bal = np.load(path + '/X_bal-SMOTE22.npy')\n",
        "y_bal = np.load(path + '/y_bal-SMOTE22.npy')"
      ],
      "metadata": {
        "id": "EbcbiqTy_Ng4"
      },
      "execution_count": 144,
      "outputs": []
    },
    {
      "cell_type": "code",
      "source": [
        "print('Original y_train distribution:', Counter(y_train))\n",
        "print('Resampled y_bal distribution:', Counter(y_bal))"
      ],
      "metadata": {
        "id": "xlhOIF3-Z4Mz",
        "colab": {
          "base_uri": "https://localhost:8080/"
        },
        "outputId": "25f45c57-7f51-4249-ec52-a4f33edf20a1"
      },
      "execution_count": 145,
      "outputs": [
        {
          "output_type": "stream",
          "name": "stdout",
          "text": [
            "Original y_train distribution: Counter({0: 721451, 1: 688161, 2: 512375, 3: 26372, 4: 24284, 5: 6098, 6: 1469, 7: 1434})\n",
            "Resampled y_bal distribution: Counter({1: 860202, 0: 813245, 2: 640469, 4: 300000, 3: 300000, 5: 10000, 6: 10000, 7: 10000})\n"
          ]
        }
      ]
    },
    {
      "cell_type": "code",
      "source": [
        "# Count the class in X_bal\n",
        "unique_values, counts = np.unique(y_bal, return_counts=True)\n",
        "print(dict(zip(unique_values, counts)))"
      ],
      "metadata": {
        "colab": {
          "base_uri": "https://localhost:8080/"
        },
        "id": "1UTa0UxrMn8R",
        "outputId": "9d8ed0fa-66ab-484b-a9fb-0e0942f596e4"
      },
      "execution_count": 146,
      "outputs": [
        {
          "output_type": "stream",
          "name": "stdout",
          "text": [
            "{0: 813245, 1: 860202, 2: 640469, 3: 300000, 4: 300000, 5: 10000, 6: 10000, 7: 10000}\n"
          ]
        }
      ]
    },
    {
      "cell_type": "code",
      "source": [
        "y_train_tensor = torch.tensor(y_bal, dtype=torch.long)\n",
        "X_train_tensor = torch.tensor(X_bal, dtype=torch.float32)\n",
        "y_test_tensor = torch.tensor(y_test, dtype=torch.long)\n",
        "X_test_tensor = torch.tensor(X_test, dtype=torch.float32)"
      ],
      "metadata": {
        "id": "ToWwXktbB5zp"
      },
      "execution_count": 147,
      "outputs": []
    },
    {
      "cell_type": "markdown",
      "source": [
        "# NN\n",
        "\n",
        "Define the Neural Network model"
      ],
      "metadata": {
        "id": "3CtGHEziAugU"
      }
    },
    {
      "cell_type": "code",
      "source": [
        "# Define the neural network model\n",
        "class SimpleNN(nn.Module):\n",
        "    def __init__(self): #Fixed typo here\n",
        "        super(SimpleNN, self).__init__()\n",
        "        self.fc1 = nn.Linear(X_train.shape[1], 256)  # Input layer with n features, outputting to 64 neurons\n",
        "        self.fc2 = nn.Linear(256, 128)\n",
        "        self.fc3 = nn.Linear(128, 64)\n",
        "        self.fc4 = nn.Linear(64, 8)\n",
        "        self.dropout = nn.Dropout(p=0.3)\n",
        "\n",
        "    def forward(self, x):\n",
        "        x = torch.relu(self.fc1(x))  # Apply ReLU activation to first layer\n",
        "        x = self.dropout(x)  # Apply dropout after first hidden layer\n",
        "        x = torch.relu(self.fc2(x))  # Apply ReLU activation to second layer\n",
        "        x = self.dropout(x)  # Apply dropout after second hidden layer\n",
        "        x = torch.relu(self.fc3(x))  # Apply ReLU activation to third layer\n",
        "        x = self.dropout(x)  # Apply dropout after third hidden layer\n",
        "        x = torch.softmax(self.fc4(x), dim=1)  # Apply softmax activation to fourth layer\n",
        "        # x = self.fc4(x)              # Output layer (no activation function for multi-class classification)\n",
        "        return x"
      ],
      "metadata": {
        "id": "78Aijv46AvqX"
      },
      "execution_count": 150,
      "outputs": []
    },
    {
      "cell_type": "code",
      "source": [
        "train_dataset_maj = TensorDataset(X_train_tensor, y_train_tensor)\n",
        "test_dataset_maj = TensorDataset(X_test_tensor, y_test_tensor)\n",
        "\n",
        "train_loader = DataLoader(train_dataset_maj, batch_size=512, shuffle=True)\n",
        "test_loader = DataLoader(test_dataset_maj, batch_size=512, shuffle=False)"
      ],
      "metadata": {
        "id": "kOfFN9wMBts1"
      },
      "execution_count": 151,
      "outputs": []
    },
    {
      "cell_type": "code",
      "source": [
        "# Create an instance of the model\n",
        "model2 = SimpleNN()\n",
        "\n",
        "# Move model to GPU if available\n",
        "model2 = model2.to(device)\n",
        "\n",
        "# Define loss function and optimizer\n",
        "# Create the criterion with class weights\n",
        "criterion = nn.CrossEntropyLoss()\n",
        "optimizer = optim.Adam(model2.parameters(), lr=0.002)"
      ],
      "metadata": {
        "id": "zYogzBBICW-l"
      },
      "execution_count": 152,
      "outputs": []
    },
    {
      "cell_type": "markdown",
      "source": [
        "## Train Loop"
      ],
      "metadata": {
        "id": "1ObExBpcKPfi"
      }
    },
    {
      "cell_type": "code",
      "source": [
        "from sklearn.metrics import matthews_corrcoef, balanced_accuracy_score, average_precision_score, roc_auc_score\n",
        "\n",
        "# Initialize lists to store metrics\n",
        "train_losses = []\n",
        "train_accuracies = []\n",
        "test_losses = []\n",
        "test_accuracies = []\n",
        "mcc_scores = []\n",
        "balanced_acc_scores = []\n",
        "avg_precision_scores = []\n",
        "auc_roc_scores = []\n",
        "\n",
        "# Training loop\n",
        "epochs = 2\n",
        "\n",
        "for epoch in range(epochs):\n",
        "    model2.train()  # Set the model to training mode\n",
        "\n",
        "    # Variables to accumulate loss and accuracy\n",
        "    epoch_train_loss = 0\n",
        "    epoch_correct_train = 0\n",
        "    total_train_samples = 0\n",
        "\n",
        "    # Use a dataloader to iterate over the training data in batches\n",
        "    for i, (inputs, labels) in enumerate(train_loader):\n",
        "        inputs, labels = inputs.to(device), labels.to(device)  # Move batch to GPU\n",
        "\n",
        "        optimizer.zero_grad()  # Clear gradients from the previous iteration\n",
        "\n",
        "        # Forward pass and compute train loss\n",
        "        outputs = model2(inputs)\n",
        "        train_loss = criterion(outputs, labels)\n",
        "        train_loss.backward()\n",
        "        optimizer.step()\n",
        "\n",
        "        # Compute train accuracy (for this batch)\n",
        "        _, predicted_train = torch.max(outputs, 1)\n",
        "        epoch_correct_train += (predicted_train == labels).sum().item()\n",
        "        epoch_train_loss += train_loss.item() * len(labels)\n",
        "        total_train_samples += len(labels)\n",
        "\n",
        "        # Print training progress (optional)\n",
        "        if i % 100 == 0:\n",
        "            print(f'Epoch [{epoch+1}/{epochs}], Batch [{i+1}/{len(train_loader)}], '\n",
        "                  f'Train Loss: {train_loss.item():.4f}, Train Acc: {epoch_correct_train / total_train_samples:.4f}')\n",
        "\n",
        "    # Average training loss and accuracy\n",
        "    avg_train_loss = epoch_train_loss / total_train_samples\n",
        "    train_accuracy = epoch_correct_train / total_train_samples\n",
        "\n",
        "    # Evaluate on test set (after each epoch)\n",
        "    model2.eval()  # Set the model to evaluation mode\n",
        "    with torch.no_grad():\n",
        "        test_loss = 0\n",
        "        correct_test = 0\n",
        "        total_test_samples = 0\n",
        "\n",
        "        # Variables to store all true labels and predicted probabilities for metrics\n",
        "        all_labels = []\n",
        "        all_preds = []\n",
        "        all_probs = []\n",
        "\n",
        "        # Use the test dataloader to iterate over the test data\n",
        "        for inputs, labels in test_loader:\n",
        "            inputs, labels = inputs.to(device), labels.to(device)  # Move batch to GPU\n",
        "            outputs_test = model2(inputs)\n",
        "            test_loss += criterion(outputs_test, labels).item() * len(labels)  # Sum up batch loss\n",
        "            total_test_samples += len(labels)\n",
        "\n",
        "            # Compute test accuracy\n",
        "            _, predicted_test = torch.max(outputs_test, 1)\n",
        "            correct_test += (predicted_test == labels).sum().item()\n",
        "\n",
        "            # Collect all true labels and predictions\n",
        "            all_labels.extend(labels.cpu().numpy())\n",
        "            all_preds.extend(predicted_test.cpu().numpy())\n",
        "            all_probs.extend(torch.softmax(outputs_test, dim=1).cpu().numpy())\n",
        "\n",
        "        # Calculate average test loss and accuracy\n",
        "        avg_test_loss = test_loss / total_test_samples\n",
        "        test_accuracy = correct_test / total_test_samples\n",
        "\n",
        "        # Calculate metrics\n",
        "        y_true = np.array(all_labels)  # Etichette vere\n",
        "        y_pred = np.array(all_preds)  # Etichette predette\n",
        "        y_scores = np.array(all_probs)\n",
        "\n",
        "        mcc = matthews_corrcoef(y_true, y_pred)\n",
        "        balanced_acc = balanced_accuracy_score(y_true, y_pred)\n",
        "        avg_precision = average_precision_score(y_true, y_scores, average='weighted')\n",
        "        auc_roc = roc_auc_score(y_true, y_scores, multi_class=\"ovr\")\n",
        "\n",
        "    # Print and store metrics (after each epoch)\n",
        "    print(f'Epoch [{epoch + 1}/{epochs}], Train Loss: {avg_train_loss:.4f}, Test Loss: {avg_test_loss:.4f}, '\n",
        "          f'Train Acc: {train_accuracy:.4f}, Test Acc: {test_accuracy:.4f}, '\n",
        "          f'MCC: {mcc:.4f}, Balanced Acc: {balanced_acc:.4f}, '\n",
        "          f'Avg Precision: {avg_precision:.4f}, AUC-ROC: {auc_roc:.4f}')"
      ],
      "metadata": {
        "colab": {
          "base_uri": "https://localhost:8080/"
        },
        "collapsed": true,
        "id": "RD-OcNX5A4-q",
        "outputId": "f5ab9674-f71f-4366-fff6-e8b4d9f50820"
      },
      "execution_count": 153,
      "outputs": [
        {
          "output_type": "stream",
          "name": "stdout",
          "text": [
            "Epoch [1/2], Batch [1/5750], Train Loss: 2.0786, Train Acc: 0.1094\n",
            "Epoch [1/2], Batch [101/5750], Train Loss: 1.9299, Train Acc: 0.3176\n",
            "Epoch [1/2], Batch [201/5750], Train Loss: 1.9314, Train Acc: 0.3333\n",
            "Epoch [1/2], Batch [301/5750], Train Loss: 1.7622, Train Acc: 0.3666\n",
            "Epoch [1/2], Batch [401/5750], Train Loss: 1.7817, Train Acc: 0.3963\n",
            "Epoch [1/2], Batch [501/5750], Train Loss: 1.7641, Train Acc: 0.4163\n",
            "Epoch [1/2], Batch [601/5750], Train Loss: 1.7536, Train Acc: 0.4310\n",
            "Epoch [1/2], Batch [701/5750], Train Loss: 1.7854, Train Acc: 0.4416\n",
            "Epoch [1/2], Batch [801/5750], Train Loss: 1.7556, Train Acc: 0.4504\n",
            "Epoch [1/2], Batch [901/5750], Train Loss: 1.7809, Train Acc: 0.4572\n",
            "Epoch [1/2], Batch [1001/5750], Train Loss: 1.7587, Train Acc: 0.4633\n",
            "Epoch [1/2], Batch [1101/5750], Train Loss: 1.7573, Train Acc: 0.4684\n",
            "Epoch [1/2], Batch [1201/5750], Train Loss: 1.7536, Train Acc: 0.4730\n",
            "Epoch [1/2], Batch [1301/5750], Train Loss: 1.7373, Train Acc: 0.4768\n",
            "Epoch [1/2], Batch [1401/5750], Train Loss: 1.7670, Train Acc: 0.4802\n",
            "Epoch [1/2], Batch [1501/5750], Train Loss: 1.7660, Train Acc: 0.4833\n",
            "Epoch [1/2], Batch [1601/5750], Train Loss: 1.7625, Train Acc: 0.4860\n",
            "Epoch [1/2], Batch [1701/5750], Train Loss: 1.7059, Train Acc: 0.4886\n",
            "Epoch [1/2], Batch [1801/5750], Train Loss: 1.7749, Train Acc: 0.4907\n",
            "Epoch [1/2], Batch [1901/5750], Train Loss: 1.7647, Train Acc: 0.4926\n",
            "Epoch [1/2], Batch [2001/5750], Train Loss: 1.7328, Train Acc: 0.4945\n",
            "Epoch [1/2], Batch [2101/5750], Train Loss: 1.7725, Train Acc: 0.4960\n",
            "Epoch [1/2], Batch [2201/5750], Train Loss: 1.7551, Train Acc: 0.4976\n",
            "Epoch [1/2], Batch [2301/5750], Train Loss: 1.7275, Train Acc: 0.4990\n",
            "Epoch [1/2], Batch [2401/5750], Train Loss: 1.7661, Train Acc: 0.5002\n",
            "Epoch [1/2], Batch [2501/5750], Train Loss: 1.7422, Train Acc: 0.5014\n",
            "Epoch [1/2], Batch [2601/5750], Train Loss: 1.7201, Train Acc: 0.5026\n",
            "Epoch [1/2], Batch [2701/5750], Train Loss: 1.7328, Train Acc: 0.5038\n",
            "Epoch [1/2], Batch [2801/5750], Train Loss: 1.7007, Train Acc: 0.5049\n",
            "Epoch [1/2], Batch [2901/5750], Train Loss: 1.7530, Train Acc: 0.5059\n",
            "Epoch [1/2], Batch [3001/5750], Train Loss: 1.7255, Train Acc: 0.5068\n",
            "Epoch [1/2], Batch [3101/5750], Train Loss: 1.7427, Train Acc: 0.5077\n",
            "Epoch [1/2], Batch [3201/5750], Train Loss: 1.7400, Train Acc: 0.5085\n",
            "Epoch [1/2], Batch [3301/5750], Train Loss: 1.7258, Train Acc: 0.5093\n",
            "Epoch [1/2], Batch [3401/5750], Train Loss: 1.6926, Train Acc: 0.5103\n",
            "Epoch [1/2], Batch [3501/5750], Train Loss: 1.7583, Train Acc: 0.5111\n",
            "Epoch [1/2], Batch [3601/5750], Train Loss: 1.6966, Train Acc: 0.5117\n",
            "Epoch [1/2], Batch [3701/5750], Train Loss: 1.7203, Train Acc: 0.5123\n",
            "Epoch [1/2], Batch [3801/5750], Train Loss: 1.7771, Train Acc: 0.5129\n",
            "Epoch [1/2], Batch [3901/5750], Train Loss: 1.7157, Train Acc: 0.5136\n",
            "Epoch [1/2], Batch [4001/5750], Train Loss: 1.7293, Train Acc: 0.5142\n",
            "Epoch [1/2], Batch [4101/5750], Train Loss: 1.7235, Train Acc: 0.5148\n",
            "Epoch [1/2], Batch [4201/5750], Train Loss: 1.7354, Train Acc: 0.5155\n",
            "Epoch [1/2], Batch [4301/5750], Train Loss: 1.7307, Train Acc: 0.5160\n",
            "Epoch [1/2], Batch [4401/5750], Train Loss: 1.7376, Train Acc: 0.5166\n",
            "Epoch [1/2], Batch [4501/5750], Train Loss: 1.7254, Train Acc: 0.5169\n",
            "Epoch [1/2], Batch [4601/5750], Train Loss: 1.7500, Train Acc: 0.5174\n",
            "Epoch [1/2], Batch [4701/5750], Train Loss: 1.7242, Train Acc: 0.5179\n",
            "Epoch [1/2], Batch [4801/5750], Train Loss: 1.7169, Train Acc: 0.5184\n",
            "Epoch [1/2], Batch [4901/5750], Train Loss: 1.7274, Train Acc: 0.5188\n",
            "Epoch [1/2], Batch [5001/5750], Train Loss: 1.7349, Train Acc: 0.5192\n",
            "Epoch [1/2], Batch [5101/5750], Train Loss: 1.7517, Train Acc: 0.5197\n",
            "Epoch [1/2], Batch [5201/5750], Train Loss: 1.7123, Train Acc: 0.5201\n",
            "Epoch [1/2], Batch [5301/5750], Train Loss: 1.7127, Train Acc: 0.5206\n",
            "Epoch [1/2], Batch [5401/5750], Train Loss: 1.6888, Train Acc: 0.5210\n",
            "Epoch [1/2], Batch [5501/5750], Train Loss: 1.7580, Train Acc: 0.5214\n",
            "Epoch [1/2], Batch [5601/5750], Train Loss: 1.7197, Train Acc: 0.5217\n",
            "Epoch [1/2], Batch [5701/5750], Train Loss: 1.7095, Train Acc: 0.5220\n",
            "Epoch [1/2], Train Loss: 1.7474, Test Loss: 1.8139, Train Acc: 0.5222, Test Acc: 0.4558, MCC: 0.2157, Balanced Acc: 0.4012, Avg Precision: 0.4260, AUC-ROC: 0.7031\n",
            "Epoch [2/2], Batch [1/5750], Train Loss: 1.7717, Train Acc: 0.4980\n",
            "Epoch [2/2], Batch [101/5750], Train Loss: 1.7123, Train Acc: 0.5401\n",
            "Epoch [2/2], Batch [201/5750], Train Loss: 1.7449, Train Acc: 0.5416\n",
            "Epoch [2/2], Batch [301/5750], Train Loss: 1.7340, Train Acc: 0.5428\n",
            "Epoch [2/2], Batch [401/5750], Train Loss: 1.7463, Train Acc: 0.5425\n",
            "Epoch [2/2], Batch [501/5750], Train Loss: 1.7333, Train Acc: 0.5423\n",
            "Epoch [2/2], Batch [601/5750], Train Loss: 1.7376, Train Acc: 0.5425\n",
            "Epoch [2/2], Batch [701/5750], Train Loss: 1.7367, Train Acc: 0.5427\n",
            "Epoch [2/2], Batch [801/5750], Train Loss: 1.7341, Train Acc: 0.5428\n",
            "Epoch [2/2], Batch [901/5750], Train Loss: 1.7508, Train Acc: 0.5429\n",
            "Epoch [2/2], Batch [1001/5750], Train Loss: 1.7042, Train Acc: 0.5429\n",
            "Epoch [2/2], Batch [1101/5750], Train Loss: 1.7417, Train Acc: 0.5430\n",
            "Epoch [2/2], Batch [1201/5750], Train Loss: 1.7091, Train Acc: 0.5426\n",
            "Epoch [2/2], Batch [1301/5750], Train Loss: 1.7266, Train Acc: 0.5427\n",
            "Epoch [2/2], Batch [1401/5750], Train Loss: 1.6962, Train Acc: 0.5426\n",
            "Epoch [2/2], Batch [1501/5750], Train Loss: 1.7436, Train Acc: 0.5426\n",
            "Epoch [2/2], Batch [1601/5750], Train Loss: 1.7101, Train Acc: 0.5429\n",
            "Epoch [2/2], Batch [1701/5750], Train Loss: 1.6749, Train Acc: 0.5428\n",
            "Epoch [2/2], Batch [1801/5750], Train Loss: 1.7208, Train Acc: 0.5428\n",
            "Epoch [2/2], Batch [1901/5750], Train Loss: 1.7466, Train Acc: 0.5428\n",
            "Epoch [2/2], Batch [2001/5750], Train Loss: 1.7081, Train Acc: 0.5430\n",
            "Epoch [2/2], Batch [2101/5750], Train Loss: 1.7135, Train Acc: 0.5430\n",
            "Epoch [2/2], Batch [2201/5750], Train Loss: 1.6877, Train Acc: 0.5430\n",
            "Epoch [2/2], Batch [2301/5750], Train Loss: 1.7236, Train Acc: 0.5429\n",
            "Epoch [2/2], Batch [2401/5750], Train Loss: 1.7608, Train Acc: 0.5429\n",
            "Epoch [2/2], Batch [2501/5750], Train Loss: 1.7411, Train Acc: 0.5428\n",
            "Epoch [2/2], Batch [2601/5750], Train Loss: 1.7418, Train Acc: 0.5428\n",
            "Epoch [2/2], Batch [2701/5750], Train Loss: 1.6803, Train Acc: 0.5429\n",
            "Epoch [2/2], Batch [2801/5750], Train Loss: 1.7365, Train Acc: 0.5430\n",
            "Epoch [2/2], Batch [2901/5750], Train Loss: 1.7067, Train Acc: 0.5431\n",
            "Epoch [2/2], Batch [3001/5750], Train Loss: 1.7728, Train Acc: 0.5429\n",
            "Epoch [2/2], Batch [3101/5750], Train Loss: 1.7302, Train Acc: 0.5431\n",
            "Epoch [2/2], Batch [3201/5750], Train Loss: 1.7637, Train Acc: 0.5432\n",
            "Epoch [2/2], Batch [3301/5750], Train Loss: 1.7252, Train Acc: 0.5432\n",
            "Epoch [2/2], Batch [3401/5750], Train Loss: 1.7405, Train Acc: 0.5432\n",
            "Epoch [2/2], Batch [3501/5750], Train Loss: 1.7124, Train Acc: 0.5433\n",
            "Epoch [2/2], Batch [3601/5750], Train Loss: 1.7441, Train Acc: 0.5434\n",
            "Epoch [2/2], Batch [3701/5750], Train Loss: 1.7166, Train Acc: 0.5435\n",
            "Epoch [2/2], Batch [3801/5750], Train Loss: 1.7141, Train Acc: 0.5435\n",
            "Epoch [2/2], Batch [3901/5750], Train Loss: 1.7050, Train Acc: 0.5436\n",
            "Epoch [2/2], Batch [4001/5750], Train Loss: 1.7198, Train Acc: 0.5436\n",
            "Epoch [2/2], Batch [4101/5750], Train Loss: 1.7716, Train Acc: 0.5436\n",
            "Epoch [2/2], Batch [4201/5750], Train Loss: 1.7477, Train Acc: 0.5438\n",
            "Epoch [2/2], Batch [4301/5750], Train Loss: 1.7211, Train Acc: 0.5438\n",
            "Epoch [2/2], Batch [4401/5750], Train Loss: 1.7080, Train Acc: 0.5438\n",
            "Epoch [2/2], Batch [4501/5750], Train Loss: 1.7518, Train Acc: 0.5438\n",
            "Epoch [2/2], Batch [4601/5750], Train Loss: 1.7550, Train Acc: 0.5439\n",
            "Epoch [2/2], Batch [4701/5750], Train Loss: 1.7087, Train Acc: 0.5439\n",
            "Epoch [2/2], Batch [4801/5750], Train Loss: 1.7579, Train Acc: 0.5440\n",
            "Epoch [2/2], Batch [4901/5750], Train Loss: 1.7280, Train Acc: 0.5440\n",
            "Epoch [2/2], Batch [5001/5750], Train Loss: 1.7397, Train Acc: 0.5440\n",
            "Epoch [2/2], Batch [5101/5750], Train Loss: 1.7297, Train Acc: 0.5440\n",
            "Epoch [2/2], Batch [5201/5750], Train Loss: 1.7359, Train Acc: 0.5441\n",
            "Epoch [2/2], Batch [5301/5750], Train Loss: 1.6925, Train Acc: 0.5442\n",
            "Epoch [2/2], Batch [5401/5750], Train Loss: 1.7043, Train Acc: 0.5442\n",
            "Epoch [2/2], Batch [5501/5750], Train Loss: 1.7301, Train Acc: 0.5442\n",
            "Epoch [2/2], Batch [5601/5750], Train Loss: 1.7287, Train Acc: 0.5442\n",
            "Epoch [2/2], Batch [5701/5750], Train Loss: 1.6923, Train Acc: 0.5442\n",
            "Epoch [2/2], Train Loss: 1.7251, Test Loss: 1.8097, Train Acc: 0.5442, Test Acc: 0.4597, MCC: 0.2227, Balanced Acc: 0.4026, Avg Precision: 0.4352, AUC-ROC: 0.7538\n"
          ]
        }
      ]
    },
    {
      "cell_type": "code",
      "source": [
        "y_test_num = y_test.astype(int)\n",
        "y_pred = y_pred.astype(int)\n",
        "cm = confusion_matrix(y_test_num, y_pred)\n",
        "labels = sorted(y.unique())"
      ],
      "metadata": {
        "id": "AqmgP9VeJs34"
      },
      "execution_count": 154,
      "outputs": []
    },
    {
      "cell_type": "code",
      "source": [
        "cm_df = pd.DataFrame(cm, index=labels, columns=labels)\n",
        "\n",
        "#plot\n",
        "plt.figure(figsize=(10, 7))\n",
        "sns.heatmap(cm_df, annot=True, fmt='d', cmap='Blues', cbar=False)\n",
        "plt.xlabel('Predicted Labels')\n",
        "plt.ylabel('True Labels')\n",
        "plt.title('Confusion Matrix')\n",
        "plt.show()"
      ],
      "metadata": {
        "colab": {
          "base_uri": "https://localhost:8080/",
          "height": 641
        },
        "id": "8LCA1DiYJwwg",
        "outputId": "3370da6d-e01e-4d06-f7a7-03f48de15246"
      },
      "execution_count": 155,
      "outputs": [
        {
          "output_type": "display_data",
          "data": {
            "text/plain": [
              "<Figure size 1000x700 with 1 Axes>"
            ],
            "image/png": "[encoded data removed]"
          },
          "metadata": {}
        }
      ]
    },
    {
      "cell_type": "markdown",
      "source": [
        "# XGBoost"
      ],
      "metadata": {
        "id": "8CurAq5HD0D5"
      }
    },
    {
      "cell_type": "code",
      "source": [
        "# Convert categorical features to numerical values\n",
        "def convert_categories_to_numerical(df):\n",
        "    for column in df.columns:\n",
        "        if df[column].dtype.name == 'category':\n",
        "            df[column] = df[column].cat.codes\n",
        "    return df"
      ],
      "metadata": {
        "id": "SRCB1Ls4aAB8"
      },
      "execution_count": 156,
      "outputs": []
    },
    {
      "cell_type": "code",
      "source": [
        "params = {\n",
        "    'device': 'cuda',\n",
        "    'objective': 'multi:softprob',\n",
        "    'num_class': len(np.unique(y)),\n",
        "    'eval_metric': 'mlogloss',\n",
        "    'max_depth': 10,\n",
        "    'learning_rate': 0.2,\n",
        "}"
      ],
      "metadata": {
        "id": "O1NhyGAAaDPg"
      },
      "execution_count": 157,
      "outputs": []
    },
    {
      "cell_type": "code",
      "source": [
        "X_train, X_val, y_train, y_val = train_test_split(X_bal, y_bal, test_size=0.2, random_state=42)"
      ],
      "metadata": {
        "id": "Gi7BYDjRH9J3"
      },
      "execution_count": 159,
      "outputs": []
    },
    {
      "cell_type": "code",
      "source": [
        "dtrain = xgb.DMatrix(X_train, label=y_train)\n",
        "dtest = xgb.DMatrix(X_test_tensor, label=y_test_tensor)\n",
        "dval = xgb.DMatrix(X_val, label=y_val)"
      ],
      "metadata": {
        "id": "-kVNAApuaXzo"
      },
      "execution_count": 160,
      "outputs": []
    },
    {
      "cell_type": "code",
      "source": [
        "model1 = xgb.train(params, dtrain, num_boost_round=2500, evals =  [(dval, 'mlogloss')], early_stopping_rounds=20)"
      ],
      "metadata": {
        "colab": {
          "base_uri": "https://localhost:8080/"
        },
        "id": "6RD86kulaZJg",
        "outputId": "b8d509f9-c183-4af2-91a0-39132c1186cb",
        "collapsed": true
      },
      "execution_count": 166,
      "outputs": [
        {
          "output_type": "stream",
          "name": "stdout",
          "text": [
            "[0]\tmlogloss-mlogloss:1.80378\n",
            "[1]\tmlogloss-mlogloss:1.63313\n",
            "[2]\tmlogloss-mlogloss:1.50995\n",
            "[3]\tmlogloss-mlogloss:1.41516\n",
            "[4]\tmlogloss-mlogloss:1.33858\n",
            "[5]\tmlogloss-mlogloss:1.27746\n",
            "[6]\tmlogloss-mlogloss:1.22746\n",
            "[7]\tmlogloss-mlogloss:1.18548\n",
            "[8]\tmlogloss-mlogloss:1.15049\n",
            "[9]\tmlogloss-mlogloss:1.12060\n",
            "[10]\tmlogloss-mlogloss:1.09481\n",
            "[11]\tmlogloss-mlogloss:1.07219\n",
            "[12]\tmlogloss-mlogloss:1.05249\n",
            "[13]\tmlogloss-mlogloss:1.03496\n",
            "[14]\tmlogloss-mlogloss:1.01847\n",
            "[15]\tmlogloss-mlogloss:1.00381\n",
            "[16]\tmlogloss-mlogloss:0.99123\n",
            "[17]\tmlogloss-mlogloss:0.97976\n",
            "[18]\tmlogloss-mlogloss:0.97010\n",
            "[19]\tmlogloss-mlogloss:0.96033\n",
            "[20]\tmlogloss-mlogloss:0.95251\n",
            "[21]\tmlogloss-mlogloss:0.94525\n",
            "[22]\tmlogloss-mlogloss:0.93869\n",
            "[23]\tmlogloss-mlogloss:0.93227\n",
            "[24]\tmlogloss-mlogloss:0.92711\n",
            "[25]\tmlogloss-mlogloss:0.92177\n",
            "[26]\tmlogloss-mlogloss:0.91704\n",
            "[27]\tmlogloss-mlogloss:0.91181\n",
            "[28]\tmlogloss-mlogloss:0.90765\n",
            "[29]\tmlogloss-mlogloss:0.90411\n",
            "[30]\tmlogloss-mlogloss:0.89949\n",
            "[31]\tmlogloss-mlogloss:0.89580\n",
            "[32]\tmlogloss-mlogloss:0.89249\n",
            "[33]\tmlogloss-mlogloss:0.88964\n",
            "[34]\tmlogloss-mlogloss:0.88703\n",
            "[35]\tmlogloss-mlogloss:0.88415\n",
            "[36]\tmlogloss-mlogloss:0.88094\n",
            "[37]\tmlogloss-mlogloss:0.87858\n",
            "[38]\tmlogloss-mlogloss:0.87591\n",
            "[39]\tmlogloss-mlogloss:0.87351\n",
            "[40]\tmlogloss-mlogloss:0.87171\n",
            "[41]\tmlogloss-mlogloss:0.86971\n",
            "[42]\tmlogloss-mlogloss:0.86853\n",
            "[43]\tmlogloss-mlogloss:0.86718\n",
            "[44]\tmlogloss-mlogloss:0.86529\n",
            "[45]\tmlogloss-mlogloss:0.86394\n",
            "[46]\tmlogloss-mlogloss:0.86249\n",
            "[47]\tmlogloss-mlogloss:0.86094\n",
            "[48]\tmlogloss-mlogloss:0.85975\n",
            "[49]\tmlogloss-mlogloss:0.85833\n",
            "[50]\tmlogloss-mlogloss:0.85725\n",
            "[51]\tmlogloss-mlogloss:0.85591\n",
            "[52]\tmlogloss-mlogloss:0.85489\n",
            "[53]\tmlogloss-mlogloss:0.85368\n",
            "[54]\tmlogloss-mlogloss:0.85285\n",
            "[55]\tmlogloss-mlogloss:0.85147\n",
            "[56]\tmlogloss-mlogloss:0.85065\n",
            "[57]\tmlogloss-mlogloss:0.84958\n",
            "[58]\tmlogloss-mlogloss:0.84874\n",
            "[59]\tmlogloss-mlogloss:0.84780\n",
            "[60]\tmlogloss-mlogloss:0.84723\n",
            "[61]\tmlogloss-mlogloss:0.84615\n",
            "[62]\tmlogloss-mlogloss:0.84534\n",
            "[63]\tmlogloss-mlogloss:0.84465\n",
            "[64]\tmlogloss-mlogloss:0.84373\n",
            "[65]\tmlogloss-mlogloss:0.84319\n",
            "[66]\tmlogloss-mlogloss:0.84271\n",
            "[67]\tmlogloss-mlogloss:0.84221\n",
            "[68]\tmlogloss-mlogloss:0.84177\n",
            "[69]\tmlogloss-mlogloss:0.84099\n",
            "[70]\tmlogloss-mlogloss:0.84047\n",
            "[71]\tmlogloss-mlogloss:0.83974\n",
            "[72]\tmlogloss-mlogloss:0.83897\n",
            "[73]\tmlogloss-mlogloss:0.83843\n",
            "[74]\tmlogloss-mlogloss:0.83774\n",
            "[75]\tmlogloss-mlogloss:0.83701\n",
            "[76]\tmlogloss-mlogloss:0.83655\n",
            "[77]\tmlogloss-mlogloss:0.83597\n",
            "[78]\tmlogloss-mlogloss:0.83550\n",
            "[79]\tmlogloss-mlogloss:0.83499\n",
            "[80]\tmlogloss-mlogloss:0.83436\n",
            "[81]\tmlogloss-mlogloss:0.83373\n",
            "[82]\tmlogloss-mlogloss:0.83334\n",
            "[83]\tmlogloss-mlogloss:0.83305\n",
            "[84]\tmlogloss-mlogloss:0.83249\n",
            "[85]\tmlogloss-mlogloss:0.83199\n",
            "[86]\tmlogloss-mlogloss:0.83151\n",
            "[87]\tmlogloss-mlogloss:0.83096\n",
            "[88]\tmlogloss-mlogloss:0.83056\n",
            "[89]\tmlogloss-mlogloss:0.82995\n",
            "[90]\tmlogloss-mlogloss:0.82962\n",
            "[91]\tmlogloss-mlogloss:0.82914\n",
            "[92]\tmlogloss-mlogloss:0.82861\n",
            "[93]\tmlogloss-mlogloss:0.82821\n",
            "[94]\tmlogloss-mlogloss:0.82779\n",
            "[95]\tmlogloss-mlogloss:0.82747\n",
            "[96]\tmlogloss-mlogloss:0.82708\n",
            "[97]\tmlogloss-mlogloss:0.82665\n",
            "[98]\tmlogloss-mlogloss:0.82638\n",
            "[99]\tmlogloss-mlogloss:0.82615\n",
            "[100]\tmlogloss-mlogloss:0.82572\n",
            "[101]\tmlogloss-mlogloss:0.82524\n",
            "[102]\tmlogloss-mlogloss:0.82492\n",
            "[103]\tmlogloss-mlogloss:0.82461\n",
            "[104]\tmlogloss-mlogloss:0.82414\n",
            "[105]\tmlogloss-mlogloss:0.82388\n",
            "[106]\tmlogloss-mlogloss:0.82357\n",
            "[107]\tmlogloss-mlogloss:0.82325\n",
            "[108]\tmlogloss-mlogloss:0.82280\n",
            "[109]\tmlogloss-mlogloss:0.82253\n",
            "[110]\tmlogloss-mlogloss:0.82223\n",
            "[111]\tmlogloss-mlogloss:0.82191\n",
            "[112]\tmlogloss-mlogloss:0.82166\n",
            "[113]\tmlogloss-mlogloss:0.82139\n",
            "[114]\tmlogloss-mlogloss:0.82119\n",
            "[115]\tmlogloss-mlogloss:0.82096\n",
            "[116]\tmlogloss-mlogloss:0.82066\n",
            "[117]\tmlogloss-mlogloss:0.82044\n",
            "[118]\tmlogloss-mlogloss:0.82023\n",
            "[119]\tmlogloss-mlogloss:0.82006\n",
            "[120]\tmlogloss-mlogloss:0.81971\n",
            "[121]\tmlogloss-mlogloss:0.81941\n",
            "[122]\tmlogloss-mlogloss:0.81918\n",
            "[123]\tmlogloss-mlogloss:0.81899\n",
            "[124]\tmlogloss-mlogloss:0.81877\n",
            "[125]\tmlogloss-mlogloss:0.81852\n",
            "[126]\tmlogloss-mlogloss:0.81828\n",
            "[127]\tmlogloss-mlogloss:0.81815\n",
            "[128]\tmlogloss-mlogloss:0.81796\n",
            "[129]\tmlogloss-mlogloss:0.81777\n",
            "[130]\tmlogloss-mlogloss:0.81760\n",
            "[131]\tmlogloss-mlogloss:0.81743\n",
            "[132]\tmlogloss-mlogloss:0.81713\n",
            "[133]\tmlogloss-mlogloss:0.81690\n",
            "[134]\tmlogloss-mlogloss:0.81669\n",
            "[135]\tmlogloss-mlogloss:0.81652\n",
            "[136]\tmlogloss-mlogloss:0.81631\n",
            "[137]\tmlogloss-mlogloss:0.81618\n",
            "[138]\tmlogloss-mlogloss:0.81604\n",
            "[139]\tmlogloss-mlogloss:0.81591\n",
            "[140]\tmlogloss-mlogloss:0.81566\n",
            "[141]\tmlogloss-mlogloss:0.81553\n",
            "[142]\tmlogloss-mlogloss:0.81534\n",
            "[143]\tmlogloss-mlogloss:0.81521\n",
            "[144]\tmlogloss-mlogloss:0.81504\n",
            "[145]\tmlogloss-mlogloss:0.81490\n",
            "[146]\tmlogloss-mlogloss:0.81472\n",
            "[147]\tmlogloss-mlogloss:0.81454\n",
            "[148]\tmlogloss-mlogloss:0.81437\n",
            "[149]\tmlogloss-mlogloss:0.81418\n",
            "[150]\tmlogloss-mlogloss:0.81397\n",
            "[151]\tmlogloss-mlogloss:0.81387\n",
            "[152]\tmlogloss-mlogloss:0.81373\n",
            "[153]\tmlogloss-mlogloss:0.81365\n",
            "[154]\tmlogloss-mlogloss:0.81357\n",
            "[155]\tmlogloss-mlogloss:0.81353\n",
            "[156]\tmlogloss-mlogloss:0.81343\n",
            "[157]\tmlogloss-mlogloss:0.81329\n",
            "[158]\tmlogloss-mlogloss:0.81317\n",
            "[159]\tmlogloss-mlogloss:0.81314\n",
            "[160]\tmlogloss-mlogloss:0.81302\n",
            "[161]\tmlogloss-mlogloss:0.81290\n",
            "[162]\tmlogloss-mlogloss:0.81281\n",
            "[163]\tmlogloss-mlogloss:0.81270\n",
            "[164]\tmlogloss-mlogloss:0.81262\n",
            "[165]\tmlogloss-mlogloss:0.81254\n",
            "[166]\tmlogloss-mlogloss:0.81253\n",
            "[167]\tmlogloss-mlogloss:0.81238\n",
            "[168]\tmlogloss-mlogloss:0.81222\n",
            "[169]\tmlogloss-mlogloss:0.81207\n",
            "[170]\tmlogloss-mlogloss:0.81188\n",
            "[171]\tmlogloss-mlogloss:0.81181\n",
            "[172]\tmlogloss-mlogloss:0.81170\n",
            "[173]\tmlogloss-mlogloss:0.81158\n",
            "[174]\tmlogloss-mlogloss:0.81149\n",
            "[175]\tmlogloss-mlogloss:0.81131\n",
            "[176]\tmlogloss-mlogloss:0.81119\n",
            "[177]\tmlogloss-mlogloss:0.81113\n",
            "[178]\tmlogloss-mlogloss:0.81101\n",
            "[179]\tmlogloss-mlogloss:0.81095\n",
            "[180]\tmlogloss-mlogloss:0.81086\n",
            "[181]\tmlogloss-mlogloss:0.81072\n",
            "[182]\tmlogloss-mlogloss:0.81061\n",
            "[183]\tmlogloss-mlogloss:0.81055\n",
            "[184]\tmlogloss-mlogloss:0.81047\n",
            "[185]\tmlogloss-mlogloss:0.81041\n",
            "[186]\tmlogloss-mlogloss:0.81036\n",
            "[187]\tmlogloss-mlogloss:0.81031\n",
            "[188]\tmlogloss-mlogloss:0.81030\n",
            "[189]\tmlogloss-mlogloss:0.81025\n",
            "[190]\tmlogloss-mlogloss:0.81023\n",
            "[191]\tmlogloss-mlogloss:0.81021\n",
            "[192]\tmlogloss-mlogloss:0.81013\n",
            "[193]\tmlogloss-mlogloss:0.81007\n",
            "[194]\tmlogloss-mlogloss:0.81001\n",
            "[195]\tmlogloss-mlogloss:0.80994\n",
            "[196]\tmlogloss-mlogloss:0.80986\n",
            "[197]\tmlogloss-mlogloss:0.80980\n",
            "[198]\tmlogloss-mlogloss:0.80973\n",
            "[199]\tmlogloss-mlogloss:0.80962\n",
            "[200]\tmlogloss-mlogloss:0.80957\n",
            "[201]\tmlogloss-mlogloss:0.80952\n",
            "[202]\tmlogloss-mlogloss:0.80945\n",
            "[203]\tmlogloss-mlogloss:0.80937\n",
            "[204]\tmlogloss-mlogloss:0.80935\n",
            "[205]\tmlogloss-mlogloss:0.80935\n",
            "[206]\tmlogloss-mlogloss:0.80933\n",
            "[207]\tmlogloss-mlogloss:0.80931\n",
            "[208]\tmlogloss-mlogloss:0.80919\n",
            "[209]\tmlogloss-mlogloss:0.80916\n",
            "[210]\tmlogloss-mlogloss:0.80914\n",
            "[211]\tmlogloss-mlogloss:0.80910\n",
            "[212]\tmlogloss-mlogloss:0.80910\n",
            "[213]\tmlogloss-mlogloss:0.80903\n",
            "[214]\tmlogloss-mlogloss:0.80901\n",
            "[215]\tmlogloss-mlogloss:0.80901\n",
            "[216]\tmlogloss-mlogloss:0.80895\n",
            "[217]\tmlogloss-mlogloss:0.80891\n",
            "[218]\tmlogloss-mlogloss:0.80884\n",
            "[219]\tmlogloss-mlogloss:0.80882\n",
            "[220]\tmlogloss-mlogloss:0.80879\n",
            "[221]\tmlogloss-mlogloss:0.80877\n",
            "[222]\tmlogloss-mlogloss:0.80871\n",
            "[223]\tmlogloss-mlogloss:0.80865\n",
            "[224]\tmlogloss-mlogloss:0.80858\n",
            "[225]\tmlogloss-mlogloss:0.80849\n",
            "[226]\tmlogloss-mlogloss:0.80850\n",
            "[227]\tmlogloss-mlogloss:0.80849\n",
            "[228]\tmlogloss-mlogloss:0.80847\n",
            "[229]\tmlogloss-mlogloss:0.80847\n",
            "[230]\tmlogloss-mlogloss:0.80846\n",
            "[231]\tmlogloss-mlogloss:0.80835\n",
            "[232]\tmlogloss-mlogloss:0.80829\n",
            "[233]\tmlogloss-mlogloss:0.80823\n",
            "[234]\tmlogloss-mlogloss:0.80819\n",
            "[235]\tmlogloss-mlogloss:0.80816\n",
            "[236]\tmlogloss-mlogloss:0.80816\n",
            "[237]\tmlogloss-mlogloss:0.80814\n",
            "[238]\tmlogloss-mlogloss:0.80812\n",
            "[239]\tmlogloss-mlogloss:0.80809\n",
            "[240]\tmlogloss-mlogloss:0.80810\n",
            "[241]\tmlogloss-mlogloss:0.80807\n",
            "[242]\tmlogloss-mlogloss:0.80808\n",
            "[243]\tmlogloss-mlogloss:0.80806\n",
            "[244]\tmlogloss-mlogloss:0.80802\n",
            "[245]\tmlogloss-mlogloss:0.80802\n",
            "[246]\tmlogloss-mlogloss:0.80803\n",
            "[247]\tmlogloss-mlogloss:0.80803\n",
            "[248]\tmlogloss-mlogloss:0.80801\n",
            "[249]\tmlogloss-mlogloss:0.80798\n",
            "[250]\tmlogloss-mlogloss:0.80796\n",
            "[251]\tmlogloss-mlogloss:0.80794\n",
            "[252]\tmlogloss-mlogloss:0.80795\n",
            "[253]\tmlogloss-mlogloss:0.80794\n",
            "[254]\tmlogloss-mlogloss:0.80791\n",
            "[255]\tmlogloss-mlogloss:0.80790\n",
            "[256]\tmlogloss-mlogloss:0.80792\n",
            "[257]\tmlogloss-mlogloss:0.80791\n",
            "[258]\tmlogloss-mlogloss:0.80792\n",
            "[259]\tmlogloss-mlogloss:0.80791\n",
            "[260]\tmlogloss-mlogloss:0.80789\n",
            "[261]\tmlogloss-mlogloss:0.80784\n",
            "[262]\tmlogloss-mlogloss:0.80783\n",
            "[263]\tmlogloss-mlogloss:0.80782\n",
            "[264]\tmlogloss-mlogloss:0.80785\n",
            "[265]\tmlogloss-mlogloss:0.80786\n",
            "[266]\tmlogloss-mlogloss:0.80787\n",
            "[267]\tmlogloss-mlogloss:0.80788\n",
            "[268]\tmlogloss-mlogloss:0.80786\n",
            "[269]\tmlogloss-mlogloss:0.80790\n",
            "[270]\tmlogloss-mlogloss:0.80794\n",
            "[271]\tmlogloss-mlogloss:0.80794\n",
            "[272]\tmlogloss-mlogloss:0.80796\n",
            "[273]\tmlogloss-mlogloss:0.80795\n",
            "[274]\tmlogloss-mlogloss:0.80793\n",
            "[275]\tmlogloss-mlogloss:0.80793\n",
            "[276]\tmlogloss-mlogloss:0.80790\n",
            "[277]\tmlogloss-mlogloss:0.80794\n",
            "[278]\tmlogloss-mlogloss:0.80793\n",
            "[279]\tmlogloss-mlogloss:0.80795\n",
            "[280]\tmlogloss-mlogloss:0.80800\n",
            "[281]\tmlogloss-mlogloss:0.80804\n",
            "[282]\tmlogloss-mlogloss:0.80804\n"
          ]
        }
      ]
    },
    {
      "cell_type": "markdown",
      "source": [
        "### Save the model .json for use it in the predictor software"
      ],
      "metadata": {
        "id": "6ThgKobrAVY2"
      }
    },
    {
      "cell_type": "code",
      "source": [
        "## Save model\n",
        "model1.save_model(path+'/xgboost_model.json')"
      ],
      "metadata": {
        "id": "btQzxWUTQkyt"
      },
      "execution_count": 82,
      "outputs": []
    },
    {
      "cell_type": "markdown",
      "source": [
        "## Metrics"
      ],
      "metadata": {
        "id": "liyrDPwbAhEi"
      }
    },
    {
      "cell_type": "code",
      "source": [
        "y_pred_prob = model1.predict(dtest)\n",
        "y_pred = np.argmax(y_pred_prob, axis=1)"
      ],
      "metadata": {
        "id": "aA9YvayA9V1L"
      },
      "execution_count": 168,
      "outputs": []
    },
    {
      "cell_type": "code",
      "source": [
        "# np array to df y_pred_prob\n",
        "dfprob = pd.DataFrame(y_pred_prob)\n",
        "dfprob.head()"
      ],
      "metadata": {
        "colab": {
          "base_uri": "https://localhost:8080/",
          "height": 206
        },
        "id": "RtaWc4z19W7b",
        "outputId": "6914b9ea-ed1f-4384-b32b-6f7f9349dc09"
      },
      "execution_count": 170,
      "outputs": [
        {
          "output_type": "execute_result",
          "data": {
            "text/plain": [
              "          0         1         2             3             4             5  \\\n",
              "0  0.004358  0.799992  0.195613  1.581666e-08  3.832067e-08  2.174162e-08   \n",
              "1  0.149146  0.078987  0.326598  4.447387e-01  1.956897e-07  1.392254e-04   \n",
              "2  0.293399  0.485928  0.219913  3.529807e-09  6.636817e-04  9.520543e-05   \n",
              "3  0.733405  0.061688  0.204907  2.425155e-09  3.062359e-08  1.330806e-08   \n",
              "4  0.234022  0.563031  0.199861  3.462747e-07  2.676081e-07  1.579971e-05   \n",
              "\n",
              "              6             7  \n",
              "0  3.669176e-05  8.898479e-08  \n",
              "1  3.906328e-04  1.884870e-07  \n",
              "2  1.002876e-06  1.305673e-07  \n",
              "3  1.995511e-08  6.594710e-08  \n",
              "4  3.069053e-03  2.462558e-07  "
            ],
            "text/html": [
              "\n",
              "  <div id=\"df-1f63509c-e455-4519-8ac7-b21c1e3c9a0e\" class=\"colab-df-container\">\n",
              "    <div>\n",
              "<style scoped>\n",
              "    .dataframe tbody tr th:only-of-type {\n",
              "        vertical-align: middle;\n",
              "    }\n",
              "\n",
              "    .dataframe tbody tr th {\n",
              "        vertical-align: top;\n",
              "    }\n",
              "\n",
              "    .dataframe thead th {\n",
              "        text-align: right;\n",
              "    }\n",
              "</style>\n",
              "<table border=\"1\" class=\"dataframe\">\n",
              "  <thead>\n",
              "    <tr style=\"text-align: right;\">\n",
              "      <th></th>\n",
              "      <th>0</th>\n",
              "      <th>1</th>\n",
              "      <th>2</th>\n",
              "      <th>3</th>\n",
              "      <th>4</th>\n",
              "      <th>5</th>\n",
              "      <th>6</th>\n",
              "      <th>7</th>\n",
              "    </tr>\n",
              "  </thead>\n",
              "  <tbody>\n",
              "    <tr>\n",
              "      <th>0</th>\n",
              "      <td>0.004358</td>\n",
              "      <td>0.799992</td>\n",
              "      <td>0.195613</td>\n",
              "      <td>1.581666e-08</td>\n",
              "      <td>3.832067e-08</td>\n",
              "      <td>2.174162e-08</td>\n",
              "      <td>3.669176e-05</td>\n",
              "      <td>8.898479e-08</td>\n",
              "    </tr>\n",
              "    <tr>\n",
              "      <th>1</th>\n",
              "      <td>0.149146</td>\n",
              "      <td>0.078987</td>\n",
              "      <td>0.326598</td>\n",
              "      <td>4.447387e-01</td>\n",
              "      <td>1.956897e-07</td>\n",
              "      <td>1.392254e-04</td>\n",
              "      <td>3.906328e-04</td>\n",
              "      <td>1.884870e-07</td>\n",
              "    </tr>\n",
              "    <tr>\n",
              "      <th>2</th>\n",
              "      <td>0.293399</td>\n",
              "      <td>0.485928</td>\n",
              "      <td>0.219913</td>\n",
              "      <td>3.529807e-09</td>\n",
              "      <td>6.636817e-04</td>\n",
              "      <td>9.520543e-05</td>\n",
              "      <td>1.002876e-06</td>\n",
              "      <td>1.305673e-07</td>\n",
              "    </tr>\n",
              "    <tr>\n",
              "      <th>3</th>\n",
              "      <td>0.733405</td>\n",
              "      <td>0.061688</td>\n",
              "      <td>0.204907</td>\n",
              "      <td>2.425155e-09</td>\n",
              "      <td>3.062359e-08</td>\n",
              "      <td>1.330806e-08</td>\n",
              "      <td>1.995511e-08</td>\n",
              "      <td>6.594710e-08</td>\n",
              "    </tr>\n",
              "    <tr>\n",
              "      <th>4</th>\n",
              "      <td>0.234022</td>\n",
              "      <td>0.563031</td>\n",
              "      <td>0.199861</td>\n",
              "      <td>3.462747e-07</td>\n",
              "      <td>2.676081e-07</td>\n",
              "      <td>1.579971e-05</td>\n",
              "      <td>3.069053e-03</td>\n",
              "      <td>2.462558e-07</td>\n",
              "    </tr>\n",
              "  </tbody>\n",
              "</table>\n",
              "</div>\n",
              "    <div class=\"colab-df-buttons\">\n",
              "\n",
              "  <div class=\"colab-df-container\">\n",
              "    <button class=\"colab-df-convert\" onclick=\"convertToInteractive('df-1f63509c-e455-4519-8ac7-b21c1e3c9a0e')\"\n",
              "            title=\"Convert this dataframe to an interactive table.\"\n",
              "            style=\"display:none;\">\n",
              "\n",
              "  <svg xmlns=\"http://www.w3.org/2000/svg\" height=\"24px\" viewBox=\"0 -960 960 960\">\n",
              "    <path d=\"M120-120v-720h720v720H120Zm60-500h600v-160H180v160Zm220 220h160v-160H400v160Zm0 220h160v-160H400v160ZM180-400h160v-160H180v160Zm440 0h160v-160H620v160ZM180-180h160v-160H180v160Zm440 0h160v-160H620v160Z\"/>\n",
              "  </svg>\n",
              "    </button>\n",
              "\n",
              "  <style>\n",
              "    .colab-df-container {\n",
              "      display:flex;\n",
              "      gap: 12px;\n",
              "    }\n",
              "\n",
              "    .colab-df-convert {\n",
              "      background-color: #E8F0FE;\n",
              "      border: none;\n",
              "      border-radius: 50%;\n",
              "      cursor: pointer;\n",
              "      display: none;\n",
              "      fill: #1967D2;\n",
              "      height: 32px;\n",
              "      padding: 0 0 0 0;\n",
              "      width: 32px;\n",
              "    }\n",
              "\n",
              "    .colab-df-convert:hover {\n",
              "      background-color: #E2EBFA;\n",
              "      box-shadow: 0px 1px 2px rgba(60, 64, 67, 0.3), 0px 1px 3px 1px rgba(60, 64, 67, 0.15);\n",
              "      fill: #174EA6;\n",
              "    }\n",
              "\n",
              "    .colab-df-buttons div {\n",
              "      margin-bottom: 4px;\n",
              "    }\n",
              "\n",
              "    [theme=dark] .colab-df-convert {\n",
              "      background-color: #3B4455;\n",
              "      fill: #D2E3FC;\n",
              "    }\n",
              "\n",
              "    [theme=dark] .colab-df-convert:hover {\n",
              "      background-color: #434B5C;\n",
              "      box-shadow: 0px 1px 3px 1px rgba(0, 0, 0, 0.15);\n",
              "      filter: drop-shadow(0px 1px 2px rgba(0, 0, 0, 0.3));\n",
              "      fill: #FFFFFF;\n",
              "    }\n",
              "  </style>\n",
              "\n",
              "    <script>\n",
              "      const buttonEl =\n",
              "        document.querySelector('#df-1f63509c-e455-4519-8ac7-b21c1e3c9a0e button.colab-df-convert');\n",
              "      buttonEl.style.display =\n",
              "        google.colab.kernel.accessAllowed ? 'block' : 'none';\n",
              "\n",
              "      async function convertToInteractive(key) {\n",
              "        const element = document.querySelector('#df-1f63509c-e455-4519-8ac7-b21c1e3c9a0e');\n",
              "        const dataTable =\n",
              "          await google.colab.kernel.invokeFunction('convertToInteractive',\n",
              "                                                    [key], {});\n",
              "        if (!dataTable) return;\n",
              "\n",
              "        const docLinkHtml = 'Like what you see? Visit the ' +\n",
              "          '<a target=\"_blank\" href=https://colab.research.google.com/notebooks/data_table.ipynb>data table notebook</a>'\n",
              "          + ' to learn more about interactive tables.';\n",
              "        element.innerHTML = '';\n",
              "        dataTable['output_type'] = 'display_data';\n",
              "        await google.colab.output.renderOutput(dataTable, element);\n",
              "        const docLink = document.createElement('div');\n",
              "        docLink.innerHTML = docLinkHtml;\n",
              "        element.appendChild(docLink);\n",
              "      }\n",
              "    </script>\n",
              "  </div>\n",
              "\n",
              "\n",
              "<div id=\"df-005fee2e-8bc1-4f52-98d9-cac24a611c68\">\n",
              "  <button class=\"colab-df-quickchart\" onclick=\"quickchart('df-005fee2e-8bc1-4f52-98d9-cac24a611c68')\"\n",
              "            title=\"Suggest charts\"\n",
              "            style=\"display:none;\">\n",
              "\n",
              "<svg xmlns=\"http://www.w3.org/2000/svg\" height=\"24px\"viewBox=\"0 0 24 24\"\n",
              "     width=\"24px\">\n",
              "    <g>\n",
              "        <path d=\"M19 3H5c-1.1 0-2 .9-2 2v14c0 1.1.9 2 2 2h14c1.1 0 2-.9 2-2V5c0-1.1-.9-2-2-2zM9 17H7v-7h2v7zm4 0h-2V7h2v10zm4 0h-2v-4h2v4z\"/>\n",
              "    </g>\n",
              "</svg>\n",
              "  </button>\n",
              "\n",
              "<style>\n",
              "  .colab-df-quickchart {\n",
              "      --bg-color: #E8F0FE;\n",
              "      --fill-color: #1967D2;\n",
              "      --hover-bg-color: #E2EBFA;\n",
              "      --hover-fill-color: #174EA6;\n",
              "      --disabled-fill-color: #AAA;\n",
              "      --disabled-bg-color: #DDD;\n",
              "  }\n",
              "\n",
              "  [theme=dark] .colab-df-quickchart {\n",
              "      --bg-color: #3B4455;\n",
              "      --fill-color: #D2E3FC;\n",
              "      --hover-bg-color: #434B5C;\n",
              "      --hover-fill-color: #FFFFFF;\n",
              "      --disabled-bg-color: #3B4455;\n",
              "      --disabled-fill-color: #666;\n",
              "  }\n",
              "\n",
              "  .colab-df-quickchart {\n",
              "    background-color: var(--bg-color);\n",
              "    border: none;\n",
              "    border-radius: 50%;\n",
              "    cursor: pointer;\n",
              "    display: none;\n",
              "    fill: var(--fill-color);\n",
              "    height: 32px;\n",
              "    padding: 0;\n",
              "    width: 32px;\n",
              "  }\n",
              "\n",
              "  .colab-df-quickchart:hover {\n",
              "    background-color: var(--hover-bg-color);\n",
              "    box-shadow: 0 1px 2px rgba(60, 64, 67, 0.3), 0 1px 3px 1px rgba(60, 64, 67, 0.15);\n",
              "    fill: var(--button-hover-fill-color);\n",
              "  }\n",
              "\n",
              "  .colab-df-quickchart-complete:disabled,\n",
              "  .colab-df-quickchart-complete:disabled:hover {\n",
              "    background-color: var(--disabled-bg-color);\n",
              "    fill: var(--disabled-fill-color);\n",
              "    box-shadow: none;\n",
              "  }\n",
              "\n",
              "  .colab-df-spinner {\n",
              "    border: 2px solid var(--fill-color);\n",
              "    border-color: transparent;\n",
              "    border-bottom-color: var(--fill-color);\n",
              "    animation:\n",
              "      spin 1s steps(1) infinite;\n",
              "  }\n",
              "\n",
              "  @keyframes spin {\n",
              "    0% {\n",
              "      border-color: transparent;\n",
              "      border-bottom-color: var(--fill-color);\n",
              "      border-left-color: var(--fill-color);\n",
              "    }\n",
              "    20% {\n",
              "      border-color: transparent;\n",
              "      border-left-color: var(--fill-color);\n",
              "      border-top-color: var(--fill-color);\n",
              "    }\n",
              "    30% {\n",
              "      border-color: transparent;\n",
              "      border-left-color: var(--fill-color);\n",
              "      border-top-color: var(--fill-color);\n",
              "      border-right-color: var(--fill-color);\n",
              "    }\n",
              "    40% {\n",
              "      border-color: transparent;\n",
              "      border-right-color: var(--fill-color);\n",
              "      border-top-color: var(--fill-color);\n",
              "    }\n",
              "    60% {\n",
              "      border-color: transparent;\n",
              "      border-right-color: var(--fill-color);\n",
              "    }\n",
              "    80% {\n",
              "      border-color: transparent;\n",
              "      border-right-color: var(--fill-color);\n",
              "      border-bottom-color: var(--fill-color);\n",
              "    }\n",
              "    90% {\n",
              "      border-color: transparent;\n",
              "      border-bottom-color: var(--fill-color);\n",
              "    }\n",
              "  }\n",
              "</style>\n",
              "\n",
              "  <script>\n",
              "    async function quickchart(key) {\n",
              "      const quickchartButtonEl =\n",
              "        document.querySelector('#' + key + ' button');\n",
              "      quickchartButtonEl.disabled = true;  // To prevent multiple clicks.\n",
              "      quickchartButtonEl.classList.add('colab-df-spinner');\n",
              "      try {\n",
              "        const charts = await google.colab.kernel.invokeFunction(\n",
              "            'suggestCharts', [key], {});\n",
              "      } catch (error) {\n",
              "        console.error('Error during call to suggestCharts:', error);\n",
              "      }\n",
              "      quickchartButtonEl.classList.remove('colab-df-spinner');\n",
              "      quickchartButtonEl.classList.add('colab-df-quickchart-complete');\n",
              "    }\n",
              "    (() => {\n",
              "      let quickchartButtonEl =\n",
              "        document.querySelector('#df-005fee2e-8bc1-4f52-98d9-cac24a611c68 button');\n",
              "      quickchartButtonEl.style.display =\n",
              "        google.colab.kernel.accessAllowed ? 'block' : 'none';\n",
              "    })();\n",
              "  </script>\n",
              "</div>\n",
              "\n",
              "    </div>\n",
              "  </div>\n"
            ],
            "application/vnd.google.colaboratory.intrinsic+json": {
              "type": "dataframe",
              "variable_name": "dfprob"
            }
          },
          "metadata": {},
          "execution_count": 170
        }
      ]
    },
    {
      "cell_type": "code",
      "source": [
        "# Converti y_test in array numpy se non lo è già\n",
        "y_test = np.array(y_test_tensor)\n",
        "\n",
        "# Usa LabelEncoder per convertire le etichette da stringhe a numeri\n",
        "label_encoder = LabelEncoder()\n",
        "y_test_num = label_encoder.fit_transform(y_test_tensor)\n",
        "\n",
        "# Ora y_test_num è numerico e puoi confrontarlo con y_pred\n",
        "print(f'Etichette uniche in y_test_num: {np.unique(y_test_num)}')"
      ],
      "metadata": {
        "colab": {
          "base_uri": "https://localhost:8080/"
        },
        "id": "56VebORaay-n",
        "outputId": "4bd9fac8-fc8b-411f-c145-8244755e78b4"
      },
      "execution_count": 169,
      "outputs": [
        {
          "output_type": "stream",
          "name": "stdout",
          "text": [
            "Etichette uniche in y_test_num: [0 1 2 3 4 5 6 7]\n"
          ]
        }
      ]
    },
    {
      "cell_type": "code",
      "source": [
        "# Estrai le importanze delle feature\n",
        "importance = model1.get_score(importance_type='weight')  # 'weight', 'gain', or 'cover'\n",
        "feature_names = [\n",
        "    's_ss8', 's_rsa', 's_up', 's_down', 's_phi', 's_psi', 's_a1', 's_a2',\n",
        "    's_a3', 's_a4', 's_a5', 't_ss8', 't_rsa', 't_up', 't_down', 't_phi',\n",
        "    't_psi', 't_a1', 't_a2', 't_a3', 't_a4', 't_a5'\n",
        "]# Ordinare le feature per importanza\n",
        "# Create a mapping from old keys to new feature names\n",
        "key_mapping = {f'f{i}': feature_names[i] for i in range(len(feature_names))}\n",
        "\n",
        "# Replace keys in the importance dictionary\n",
        "mapped_importance = {key_mapping.get(key, key): value for key, value in importance.items()}\n",
        "\n",
        "# Sort the features by importance\n",
        "sorted_importance = sorted(mapped_importance.items(), key=lambda x: x[1], reverse=True)\n",
        "features, scores = zip(*sorted_importance)\n",
        "\n",
        "# Visualizza l'importanza delle feature\n",
        "plt.figure(figsize=(10, 8))\n",
        "plt.barh(features, scores)\n",
        "plt.xlabel('Importance Score')\n",
        "plt.title('Feature Importance')\n",
        "plt.gca().invert_yaxis()  # Per visualizzare la feature più importante in cima\n",
        "plt.show()"
      ],
      "metadata": {
        "colab": {
          "base_uri": "https://localhost:8080/",
          "height": 718
        },
        "id": "TeBnnZXla1Dt",
        "outputId": "386decad-5bee-429c-cd7b-9cf9da0bec5a"
      },
      "execution_count": 171,
      "outputs": [
        {
          "output_type": "display_data",
          "data": {
            "text/plain": [
              "<Figure size 1000x800 with 1 Axes>"
            ],
            "image/png": "[encoded data removed]"
          },
          "metadata": {}
        }
      ]
    },
    {
      "cell_type": "code",
      "source": [
        "accuracy = accuracy_score(y_test_num, y_pred)\n",
        "print(f'Accuracy: {accuracy:.4f}')\n",
        "balanced_acc = balanced_accuracy_score(y_test_num, y_pred)\n",
        "print(f'Balanced Accuracy: {balanced_acc:.4f}')\n",
        "auc_roc = roc_auc_score(y_test_num, y_pred_prob, multi_class='ovr')\n",
        "print(f'AUC-ROC: {auc_roc:.4f}')\n",
        "mcc = matthews_corrcoef(y_test_num, y_pred)\n",
        "print(f'Matthews Correlation Coefficient: {mcc:.4f}')\n",
        "average_precision = average_precision_score(y_test_num, y_pred_prob, average='weighted')\n",
        "print(f'Average Precision Score: {average_precision:.4f}')"
      ],
      "metadata": {
        "colab": {
          "base_uri": "https://localhost:8080/"
        },
        "id": "SHMWNnW7a4At",
        "outputId": "7ecab533-e667-4b2c-a791-5f2c9567b737"
      },
      "execution_count": 172,
      "outputs": [
        {
          "output_type": "stream",
          "name": "stdout",
          "text": [
            "Accuracy: 0.5622\n",
            "Balanced Accuracy: 0.5201\n",
            "AUC-ROC: 0.8967\n",
            "Matthews Correlation Coefficient: 0.3566\n",
            "Average Precision Score: 0.5793\n"
          ]
        }
      ]
    },
    {
      "cell_type": "code",
      "source": [
        "cm = confusion_matrix(y_test_num, y_pred)\n",
        "labels = sorted(contact_dict.keys(), key=lambda x: contact_dict[x])  # Sort by dict values\n",
        "cm_df = pd.DataFrame(cm, index=labels, columns=labels)\n",
        "\n",
        "#plot\n",
        "plt.figure(figsize=(10, 7))\n",
        "sns.heatmap(cm_df, annot=True, fmt='d', cmap='Blues', cbar=False)\n",
        "plt.xlabel('Predicted Labels')\n",
        "plt.ylabel('True Labels')\n",
        "plt.title('Confusion Matrix')\n",
        "plt.show()\n"
      ],
      "metadata": {
        "colab": {
          "base_uri": "https://localhost:8080/",
          "height": 641
        },
        "id": "7ER2i5T5a-Du",
        "outputId": "88bd6feb-f560-4890-e24f-77bcaceecc5d"
      },
      "execution_count": 173,
      "outputs": [
        {
          "output_type": "display_data",
          "data": {
            "text/plain": [
              "<Figure size 1000x700 with 1 Axes>"
            ],
            "image/png": "[encoded data removed]"
          },
          "metadata": {}
        }
      ]
    }
  ]
}